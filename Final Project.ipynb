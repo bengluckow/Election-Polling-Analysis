{
 "cells": [
  {
   "cell_type": "code",
   "execution_count": null,
   "metadata": {},
   "outputs": [],
   "source": [
    "##Goal: Use previous and current polling data to see how strong\n",
    "##The relationship between pre-election polling data and the actual\n",
    "##Result of the presidential election\n",
    "##Can also look at how good the polls are at predicting outcomes on an\n",
    "#Election-by-election basis\n",
    "\n",
    "#Further analysis could look at state polling\n",
    "\n"
   ]
  },
  {
   "cell_type": "code",
   "execution_count": 14,
   "metadata": {},
   "outputs": [],
   "source": [
    "#load in data file\n",
    "electionData = open(\"election.txt\")\n",
    "\n",
    "#Lists used later\n",
    "pollWinner = []\n",
    "actualWinner = []\n",
    "pollLoser = []\n",
    "actualLoser = []\n",
    "\n",
    "#separate data into respective lists\n",
    "for line in electionData:\n",
    "    pollWinner.append(line.strip()[5:8])\n",
    "    actualWinner.append(line.strip()[9:13])\n",
    "    pollLoser.append(line.strip()[14:17])\n",
    "    actualLoser.append(line.strip()[18:22])\n",
    "    \n",
    "#deletes the column header from the lists\n",
    "del pollWinner[0]\n",
    "del actualWinner[0]\n",
    "del pollLoser[0]\n",
    "del actualLoser[0]\n",
    "\n",
    "#converts the strings in the lists to floats\n",
    "for x in range(len(pollWinner)):\n",
    "    pollWinner[x] = float(pollWinner[x])\n",
    "    actualWinner[x] = float(actualWinner[x])\n",
    "    pollLoser[x] = float(pollLoser[x])\n",
    "    actualLoser[x] = float(actualLoser[x])"
   ]
  },
  {
   "cell_type": "code",
   "execution_count": 15,
   "metadata": {},
   "outputs": [],
   "source": [
    "#output file that will store the results of the main analysis\n",
    "fout = open('results_file.txt','w')"
   ]
  },
  {
   "cell_type": "code",
   "execution_count": 16,
   "metadata": {},
   "outputs": [],
   "source": [
    "def mean(dataSet):\n",
    "    '''Takes in one argument, which is a list or other data structure. Returns the mean value from the data set.'''\n",
    "    sum = 0\n",
    "    for x in dataSet:\n",
    "        try:\n",
    "            sum += x\n",
    "        except TypeError:\n",
    "            print(\"Can only take numeric values in the list.\")\n",
    "    return sum/len(dataSet)"
   ]
  },
  {
   "cell_type": "code",
   "execution_count": 17,
   "metadata": {},
   "outputs": [
    {
     "data": {
      "text/plain": [
       "82"
      ]
     },
     "execution_count": 17,
     "metadata": {},
     "output_type": "execute_result"
    }
   ],
   "source": [
    "#writes the mean of the datasets I created to the output file\n",
    "fout.write(str(mean(pollWinner)) + ' is the mean proportion of the poll for the winner\\n')\n",
    "fout.write(str(mean(actualWinner)) + ' is the mean proportion of votes earned for the election winner\\n')\n",
    "fout.write(str(mean(pollLoser)) + ' is the mean proportion of the poll for the loser\\n')\n",
    "fout.write(str(mean(actualLoser)) + ' is the mean proportion of votes earned for the election loser\\n\\n')"
   ]
  },
  {
   "cell_type": "code",
   "execution_count": 18,
   "metadata": {},
   "outputs": [],
   "source": [
    "def std_dev(dataSet):\n",
    "    '''Takes in one argument, which is a list or other data structure. Returns the standard deviation from the data set.'''\n",
    "    sum = 0\n",
    "    meanValue = mean(dataSet)\n",
    "    for x in range(len(dataSet)):\n",
    "        try:\n",
    "            sum += (dataSet[x] - meanValue) ** 2\n",
    "        except TypeError:\n",
    "            print(\"Can only take numeric values in the list.\")\n",
    "    return (sum/len(dataSet)) ** (1/2)"
   ]
  },
  {
   "cell_type": "code",
   "execution_count": 19,
   "metadata": {},
   "outputs": [
    {
     "data": {
      "text/plain": [
       "85"
      ]
     },
     "execution_count": 19,
     "metadata": {},
     "output_type": "execute_result"
    }
   ],
   "source": [
    "#writes the standard deviation of the datasets I created to the output file\n",
    "fout.write(str(std_dev(pollWinner)) + ' is the standard deviation of the poll results for the winner\\n')\n",
    "fout.write(str(std_dev(actualWinner)) + ' is the standard deviation of the results for the election winner\\n')\n",
    "fout.write(str(std_dev(pollLoser)) + ' is the standard deviation of the poll for the loser\\n')\n",
    "fout.write(str(std_dev(actualLoser)) + ' is the standard deviation of the results for the election loser\\n\\n')"
   ]
  },
  {
   "cell_type": "code",
   "execution_count": 20,
   "metadata": {},
   "outputs": [],
   "source": [
    "def diff_means_t_test(dataSet1,dataSet2):\n",
    "    '''Takes in two data sets as lists or other data structures. Goes through the values in the \n",
    "    lists to perform the difference of two means test on the data set. The data must be properly set up, see the above data cleaning for reference.'''\n",
    "    #writes the null and alternative hypotheses to the output file\n",
    "    fout.write(\"Null: There is no difference in means between these two populations\\n\")\n",
    "    fout.write(\"Alternative: There is a difference in means between these two populations\\n\")\n",
    "    \n",
    "    #finds the t statistic for the given difference of means\n",
    "    x1 = mean(dataSet1)\n",
    "    x2 = mean(dataSet2)\n",
    "    sd1 = std_dev(dataSet1)\n",
    "    sd2 = std_dev(dataSet2)\n",
    "    pooled_variance = ((len(dataSet1) - 1)*(sd1**2) + (len(dataSet2) - 1)*(sd2**2))/(len(dataSet1)+len(dataSet2)-2)\n",
    "    t_stat = (x1 - x2)/((pooled_variance*(1/len(dataSet1) + 1/len(dataSet2)))**.5)\n",
    "    return t_stat"
   ]
  },
  {
   "cell_type": "code",
   "execution_count": 21,
   "metadata": {},
   "outputs": [],
   "source": [
    "df = len(actualWinner) + len(pollWinner) - 2\n",
    "def p_value(t_stat,df,alpha = .05):\n",
    "    '''Calculates the p-value and returns the result of a difference of means\n",
    "    t test. Takes in the t statistic from the above test, the degrees of freedom, \n",
    "    and a default alpha value of .05. Prints out the result of the test'''\n",
    "    from scipy.stats import t\n",
    "    p = t.pdf(t_stat,df) #found using the scipy library\n",
    "    \n",
    "    fout.write(\"P-value: \" + str(p) + '\\n')\n",
    "    if abs(p) < alpha:\n",
    "        fout.write(\"Conclusion: Reject the Null.\\n\")\n",
    "    else:\n",
    "        fout.write(\"Conclusion: Fail to reject the Null.\\n\\n\")\n",
    "#runs the p value function on the datasets of interestt\n",
    "p_value(diff_means_t_test(actualWinner,pollWinner),df)\n",
    "p_value(diff_means_t_test(actualLoser,pollLoser),df)"
   ]
  },
  {
   "cell_type": "code",
   "execution_count": 22,
   "metadata": {},
   "outputs": [],
   "source": [
    "def correlation(dataSet1, dataSet2):\n",
    "    '''Takes in two data sets as lists or other data structures. Calculates and returns the\n",
    "    coefficient of correlation between the two data sets.'''\n",
    "    #three sums used in the formula, means used in forumla\n",
    "    sum_x = 0\n",
    "    sum_x_squared = 0\n",
    "    sum_y_squared = 0\n",
    "    x1 = mean(dataSet1)\n",
    "    x2 = mean(dataSet2)\n",
    "    \n",
    "    #calculates the sums\n",
    "    for x in range(len(dataSet1)): #uses the correlation formula\n",
    "        sum_x += (dataSet1[x] - x1) * (dataSet2[x] - x2)\n",
    "        sum_x_squared += (dataSet1[x] - x1) ** 2\n",
    "        sum_y_squared += (dataSet2[x] - x2) ** 2\n",
    "        \n",
    "    #returns the final correlation using the formula\n",
    "    return sum_x/((sum_x_squared * sum_y_squared))**(1/2)"
   ]
  },
  {
   "cell_type": "code",
   "execution_count": 23,
   "metadata": {},
   "outputs": [
    {
     "data": {
      "text/plain": [
       "94"
      ]
     },
     "execution_count": 23,
     "metadata": {},
     "output_type": "execute_result"
    }
   ],
   "source": [
    "#writes the correlations to the output file\n",
    "fout.write(str(correlation(pollWinner,actualWinner)) + ' is the correlation of the poll data to the actual results for the winner\\n')\n",
    "fout.write(str(correlation(actualLoser, pollLoser)) + ' is the correlation of the poll data to tbe results for the election loser\\n\\n')"
   ]
  },
  {
   "cell_type": "code",
   "execution_count": 24,
   "metadata": {},
   "outputs": [
    {
     "data": {
      "text/plain": [
       "(0.7289595673448365, 0.11456979139840323)"
      ]
     },
     "execution_count": 24,
     "metadata": {},
     "output_type": "execute_result"
    }
   ],
   "source": [
    "def slr(dataSet1,dataSet2):\n",
    "    '''Takes in two data sets, and then calculates and returns the simple linear regression\n",
    "    found between the two data sets, with the least squares regression line. Returns the slope\n",
    "    and intercept as a tuple.'''\n",
    "    #\n",
    "    slope = correlation(dataSet1, dataSet2)*std_dev(dataSet2)/std_dev(dataSet1)\n",
    "    intercept = mean(dataSet2) - slope * mean(dataSet1)\n",
    "    fout.write(\"y = \" + str(slope) + \"x + \" + str(intercept) + '\\n\\n')\n",
    "    return slope, intercept\n",
    "\n",
    "#writes the regression formula to the output file\n",
    "fout.write('For the winner, the regression line where x is poll proportion is: ')\n",
    "slr(pollWinner, actualWinner)\n",
    "\n",
    "fout.write('For the loser, the regression line where x is poll proportion is: ')\n",
    "slr(pollLoser, actualLoser)"
   ]
  },
  {
   "cell_type": "code",
   "execution_count": 25,
   "metadata": {},
   "outputs": [],
   "source": [
    "fout = open('results_file.txt','w')"
   ]
  },
  {
   "cell_type": "code",
   "execution_count": 26,
   "metadata": {},
   "outputs": [],
   "source": [
    "##Graphs"
   ]
  },
  {
   "cell_type": "code",
   "execution_count": 28,
   "metadata": {},
   "outputs": [
    {
     "data": {
      "text/plain": [
       "<matplotlib.collections.PathCollection at 0x1a20116650>"
      ]
     },
     "execution_count": 28,
     "metadata": {},
     "output_type": "execute_result"
    },
    {
     "data": {
      "image/png": "[encoded data removed]",
      "text/plain": [
       "<Figure size 432x288 with 1 Axes>"
      ]
     },
     "metadata": {
      "needs_background": "light"
     },
     "output_type": "display_data"
    }
   ],
   "source": [
    "#code credit to: https://pythonspot.com/matplotlib-scatterplot/\n",
    "import numpy as np\n",
    "import matplotlib.pyplot as plt\n",
    "x = pollWinner #can adjust x and y as needed\n",
    "y = actualWinner\n",
    "area = np.pi*3\n",
    "plt.scatter(x, y, s=area, alpha=0.5)"
   ]
  },
  {
   "cell_type": "code",
   "execution_count": 29,
   "metadata": {},
   "outputs": [
    {
     "data": {
      "text/plain": [
       "<matplotlib.collections.PathCollection at 0x1a20185410>"
      ]
     },
     "execution_count": 29,
     "metadata": {},
     "output_type": "execute_result"
    },
    {
     "data": {
      "image/png": "[encoded data removed]",
      "text/plain": [
       "<Figure size 432x288 with 1 Axes>"
      ]
     },
     "metadata": {
      "needs_background": "light"
     },
     "output_type": "display_data"
    }
   ],
   "source": [
    "x = pollLoser #can adjust x and y as needed\n",
    "y = actualLoser\n",
    "area = np.pi*3\n",
    "plt.scatter(x, y, s=area, alpha=0.5)"
   ]
  },
  {
   "cell_type": "code",
   "execution_count": null,
   "metadata": {},
   "outputs": [],
   "source": []
  },
  {
   "cell_type": "code",
   "execution_count": null,
   "metadata": {},
   "outputs": [],
   "source": []
  }
 ],
 "metadata": {
  "kernelspec": {
   "display_name": "Python 3",
   "language": "python",
   "name": "python3"
  },
  "language_info": {
   "codemirror_mode": {
    "name": "ipython",
    "version": 3
   },
   "file_extension": ".py",
   "mimetype": "text/x-python",
   "name": "python",
   "nbconvert_exporter": "python",
   "pygments_lexer": "ipython3",
   "version": "3.7.4"
  }
 },
 "nbformat": 4,
 "nbformat_minor": 2
}
